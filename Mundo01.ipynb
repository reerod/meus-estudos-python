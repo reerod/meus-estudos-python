{
  "nbformat": 4,
  "nbformat_minor": 0,
  "metadata": {
    "colab": {
      "provenance": [],
      "authorship_tag": "ABX9TyP13XiCPqC9tcsUkpsg34qH",
      "include_colab_link": true
    },
    "kernelspec": {
      "name": "python3",
      "display_name": "Python 3"
    },
    "language_info": {
      "name": "python"
    }
  },
  "cells": [
    {
      "cell_type": "markdown",
      "metadata": {
        "id": "view-in-github",
        "colab_type": "text"
      },
      "source": [
        "<a href=\"https://colab.research.google.com/github/reerod/meus-estudos-python/blob/main/Mundo01.ipynb\" target=\"_parent\"><img src=\"https://colab.research.google.com/assets/colab-badge.svg\" alt=\"Open In Colab\"/></a>"
      ]
    },
    {
      "cell_type": "markdown",
      "source": [
        "# Para quando precisar de módulos adicionais, consultar: https://pypi.org/"
      ],
      "metadata": {
        "id": "3Mj2b0K_0rHk"
      }
    },
    {
      "cell_type": "code",
      "execution_count": null,
      "metadata": {
        "id": "yAT_6SvMJtUE"
      },
      "outputs": [],
      "source": [
        "# ex001 - Hello World!\n",
        "print('Olá, Mundo!')"
      ]
    },
    {
      "cell_type": "code",
      "source": [
        "# ex002 - Respondendo ao usuário\n",
        "nome = input('Digite seu nome: ')\n",
        "print(f'É um prazer te conhecer, {nome}!')"
      ],
      "metadata": {
        "id": "lggrLrEcKvAl"
      },
      "execution_count": null,
      "outputs": []
    },
    {
      "cell_type": "markdown",
      "source": [
        "# FASE 06 - Tipos Primitivos e Saída de Dados\n",
        "# método type() -> exibe o tipo da variável\n",
        "# Para mais métodos consultar tópico 'Métodos de string', em: https://docs.python.org/pt-br/3/library/stdtypes.html#textseq"
      ],
      "metadata": {
        "id": "4uW-_CPhT6Cv"
      }
    },
    {
      "cell_type": "code",
      "source": [
        "\"\"\"n = int(input('Digite um valor: '))\n",
        "print(n)\n",
        "n = float(input('Digite um valor: '))\n",
        "print(n)\n",
        "n = bool(input('Digite um valor: '))\n",
        "print(n)\"\"\"\n",
        "# Utilizando alguns métodos:\n",
        "n = input('Digite um valor: ')\n",
        "print(n.isnumeric())\n",
        "print(n.isalpha())\n",
        "print(n.isalnum())"
      ],
      "metadata": {
        "id": "aa3l0phLKyt6"
      },
      "execution_count": null,
      "outputs": []
    },
    {
      "cell_type": "code",
      "source": [
        "# ex003 - Somando dois números\n",
        "valor1 = int(input('Digite o primeiro valor: '))\n",
        "valor2 = int(input('Digite o segundo valor: '))\n",
        "\n",
        "soma = valor1 + valor2\n",
        "\n",
        "print(f'A soma entre {valor1} e {valor2} é igual a {soma}')"
      ],
      "metadata": {
        "id": "S3uLBzr5Kw54"
      },
      "execution_count": null,
      "outputs": []
    },
    {
      "cell_type": "code",
      "source": [
        "# ex004 - Dissecando uma variável\n",
        "var = input('Digite algo: ')\n",
        "print(f'O tipo primitivo desse valor é {type(var)}')\n",
        "print(f'Só tem espaços? {var.isspace()}')\n",
        "print(f'É um número? {var.isnumeric()}')\n",
        "print(f'É alfanumérico? {var.isalnum()}')\n",
        "print(f'É alfabético? {var.isalpha()}')\n",
        "print(f'Está em maiúsculo? {var.isupper()}')\n",
        "print(f'Está em minúsculo? {var.islower()}')\n",
        "print(f'Inicia com letra maiúscula? {var.istitle()}')"
      ],
      "metadata": {
        "id": "OTwC6XD0T6Nt"
      },
      "execution_count": null,
      "outputs": []
    },
    {
      "cell_type": "markdown",
      "source": [
        "# FASE 07 - Operadores Aritméticos\n",
        "# para saber mais sobre operadores aritméticos, consultar: https://docs.python.org/pt-br/3/tutorial/introduction.html#using-python-as-a-calculator"
      ],
      "metadata": {
        "id": "9F6NLpIDc4bh"
      }
    },
    {
      "cell_type": "code",
      "source": [
        "# ex005 - Antecessor e Sucessor\n",
        "n = int(input('Digite um valor: '))\n",
        "print(f'O antecessor de {n} é {n - 1} e o sucessor é {n + 1}.')"
      ],
      "metadata": {
        "id": "V1H3Kkr-bvJ0"
      },
      "execution_count": null,
      "outputs": []
    },
    {
      "cell_type": "code",
      "source": [
        "# ex006 - Dobro, Triplo, Raiz Quadrada\n",
        "from math import sqrt\n",
        "num = int(input('Digite um número: '))\n",
        "print(f'O dobro de {num} é: {num*2}\\nO triplo de {num} é: {num*3}\\nA raiz quadrada de {num} é: {round(sqrt(num), 2)}')"
      ],
      "metadata": {
        "id": "FHS1GClliGaR"
      },
      "execution_count": null,
      "outputs": []
    },
    {
      "cell_type": "code",
      "source": [
        "# ex007 - Média Aritmética\n",
        "n1 = float(input('Primeira nota: '))\n",
        "n2 = float(input('Segunda nota: '))\n",
        "media = (n1 + n2) / 2\n",
        "print(f'A média das notas {n1} e {n2} é {media:.1f}')"
      ],
      "metadata": {
        "id": "gFjmIUySnT8i"
      },
      "execution_count": null,
      "outputs": []
    },
    {
      "cell_type": "code",
      "source": [
        "# ex008 - Conversor de medidas\n",
        "medida = float(input('Informe um valor em metros: '))\n",
        "print(f'Em Km: {medida / 10**3}\\nEm Hm: {medida / 10**2}\\nEm Dam: {medida / 10}')\n",
        "print(f'Em Dm: {medida * pow(10, -1):.2f}\\nEm Cm: {medida / pow(10, -2):.0f}\\nEm Mm: {medida / pow(10, -3):.0f}')"
      ],
      "metadata": {
        "id": "3BvN6hL7B_bn"
      },
      "execution_count": null,
      "outputs": []
    },
    {
      "cell_type": "code",
      "source": [
        "# ex009 - Tabuada de Multiplicar\n",
        "num = int(input('Digite um numero para mostrar sua multiplicação: '))\n",
        "resultado = 1\n",
        "print('-' * 15)\n",
        "for cont in range(1, 11):\n",
        "  resultado = num * cont\n",
        "  print(f'{num} X {cont} = {resultado}')\n",
        "  print('-' * 15)\n",
        "  cont += 1"
      ],
      "metadata": {
        "id": "ZJ-1mgGmPuWb"
      },
      "execution_count": null,
      "outputs": []
    },
    {
      "cell_type": "code",
      "source": [
        "# ex010 - Conversor de moedas\n",
        "reais = float(input('Quantos reais deseja converter? R$ '))\n",
        "dol = reais / 4.94\n",
        "print(f'Com R${reais} você consegue comprar U${dol:.2f}.')"
      ],
      "metadata": {
        "id": "gC2f0mFNWpBj"
      },
      "execution_count": null,
      "outputs": []
    },
    {
      "cell_type": "code",
      "source": [
        "# ex011 - Pintando parede\n",
        "''' IDEIA PARA PROXIMO PROGRAMA\n",
        "A área da parede é de 10,8m²;\n",
        "A área da janela é igual à 1,80m²;\n",
        "E a área da porta é igual à 2,40m²;\n",
        "Então a área a ser pintada é igual à 10,8 – 1,80 – 2,40=6,6m². '''\n",
        "altura = float(input('Altura da parede: '))\n",
        "largura = float(input('Largura da parede: '))\n",
        "area = altura * largura\n",
        "qtd_tinta = area / 2\n",
        "print(f'''A área da parede é de {area:.2f}m².\n",
        "Você precisará de {qtd_tinta}L de tinta''')"
      ],
      "metadata": {
        "id": "86K83ag4bI0z"
      },
      "execution_count": null,
      "outputs": []
    },
    {
      "cell_type": "code",
      "source": [
        "# ex012 - Calculando Desconto\n",
        "prod = float(input('Qual é o preço do produto? R$'))\n",
        "desc = prod - (prod * 0.05)\n",
        "print(f'O produto que custava R${prod}, na promoção com desconto de 5% vai custar R${desc:.2f}')"
      ],
      "metadata": {
        "id": "4CcfhPMSH6wG"
      },
      "execution_count": null,
      "outputs": []
    },
    {
      "cell_type": "code",
      "source": [
        "# ex013 - Reajuste Salarial\n",
        "salario = float(input('Qual é o salário do funcionário? R$'))\n",
        "reajuste = (salario * 0.15) + salario\n",
        "print(f'Um funcionário que ganhava R${salario}, com 15% ded aumento, passa a receber R${reajuste:.2f}')"
      ],
      "metadata": {
        "id": "bQGfPtkBVFqg"
      },
      "execution_count": null,
      "outputs": []
    },
    {
      "cell_type": "code",
      "source": [
        "# ex014 - Conversor de temperaturas\n",
        "# formula (0 °C × 9/5) + 32 = 32 °F\n",
        "c = float(input('informe a temperatura em ºC: '))\n",
        "f = (c * (9/5)) + 32\n",
        "print(f'{c}ºC convertidos em Fahrenheit é {f:.1f}ºF')"
      ],
      "metadata": {
        "id": "bnXxkMUkXytN"
      },
      "execution_count": null,
      "outputs": []
    },
    {
      "cell_type": "code",
      "source": [
        "km = float(input('Quantos Km percorridos? '))\n",
        "dias = int(input('Quantos dias de aluguel? '))\n",
        "tot_pagar = (0.15 * km) + (60 * dias)\n",
        "print(f'o valor total a pagar será de R${tot_pagar:.2f}')"
      ],
      "metadata": {
        "id": "LHeGC1arcsKI"
      },
      "execution_count": null,
      "outputs": []
    },
    {
      "cell_type": "markdown",
      "source": [
        "# FASE 08 - Utilizando Módulos\n",
        "# ***para saber mais sobre Funções númericas e matemáticas, consultar:*** https://docs.python.org/pt-br/3/library/numeric.html\n",
        "# como importar uma biblioteca: import (nome da biblioteca) ou from (nome da biblioteca) import (nome da função)\n",
        "# ***Algumas funções da biblioteca math:***\n",
        "# ceil: faz um arredondamento númerico pra cima. Retorna o limite máximo de x, o menor inteiro maior ou igual que x.\n",
        "# floor: faz um arredondamento númerioca pra baixo. Retorna o limite mínimo de x, o maior inteiro menor ou igual a x.\n",
        "# trunc: elimina a parte fracionária de um número deixando apenas a parte inteiro (sem arredondamento). Retorna x com a parte fracionária removida, deixando a parte inteira.\n",
        "# pow: calcula a potência de um número. Retorna x elevado a potência de y.\n",
        "# sqrt: calcula a raiz quadrada de um número. Retorna a raiz quadrada de x.\n",
        "# factorial: calcula o fatorial de um número. Retorna o fatorial de n como um inteiro.\n",
        "# ***Algumas funções da biblioteca random:***\n",
        "# random: número aleatório entre 0 e 1\n",
        "# randint: Retorna um inteiro aleatório N de forma que a <= N <= b."
      ],
      "metadata": {
        "id": "ZVu4FiT_fE5-"
      }
    },
    {
      "cell_type": "code",
      "source": [
        "# EXEMPLOS DA FASE 08\n",
        "'''import math\n",
        "num = int(input('Digite um número: '))\n",
        "raiz = math.sqrt(num)\n",
        "print(f'A raiz de {num} é igual a {raiz:.2f}')\n",
        "print(f'A raiz de {num} é igual a {math.ceil(raiz)}') # com função ceil\n",
        "print(f'A raiz de {num} é igual a {math.floor(raiz)}') # com função floor'''\n",
        "\n",
        "# OU\n",
        "from math import sqrt, floor, ceil\n",
        "num = int(input('Digite um número: '))\n",
        "raiz = sqrt(num)\n",
        "print(f'A raiz de {num} é igual a {raiz:.2f}')\n",
        "print(f'A raiz de {num} é igual a {ceil(raiz)}')\n",
        "print(f'A raiz de {num} é igual a {floor(raiz)}')"
      ],
      "metadata": {
        "id": "ZIJ38DPgmy-U"
      },
      "execution_count": null,
      "outputs": []
    },
    {
      "cell_type": "code",
      "source": [
        "# EXEMPLOS DA FASE 08\n",
        "from random import random, randint\n",
        "print(f'{random()}\\n{randint(1,10)}') # aleatorio entre 0 e 1 e entre 1 e 10"
      ],
      "metadata": {
        "id": "nPxhSwJI0XtY"
      },
      "execution_count": null,
      "outputs": []
    },
    {
      "cell_type": "code",
      "source": [
        "# ex016 - Parte inteira\n",
        "import math\n",
        "num = float(input('Digite um valor real: '))\n",
        "print(f'o número {num} tem a parte inteira {math.trunc(num)}')"
      ],
      "metadata": {
        "id": "WUn8L4MIGFhx"
      },
      "execution_count": null,
      "outputs": []
    },
    {
      "cell_type": "code",
      "source": [
        "# ex017 - Cateto e hipotenusa\n",
        "from math import hypot\n",
        "cat_oposto = float(input('Comprimento do cateto oposto: '))\n",
        "cat_adjacente = float(input('Comprimento do cateto adjacente: '))\n",
        "print(f'A hipotenusa vai medir {hypot(cat_oposto, cat_adjacente):.2f}')"
      ],
      "metadata": {
        "id": "3O9HO5HLQee0"
      },
      "execution_count": null,
      "outputs": []
    },
    {
      "cell_type": "code",
      "source": [
        "# ex018 - Seno, cosseno e tangente\n",
        "from math import cos, sin, tan, radians\n",
        "ang = int(input('Digite o ângulo que você deseja: '))\n",
        "print(f'O ângulo de {ang} tem o SENO de {sin(radians(ang)):.2f}\\nO ângulo de {ang} tem o COSSENO de {cos(radians(ang)):.2f}\\nO ângulo de {ang} tem a TANGENTE de {tan(radians(ang)):.2f}')"
      ],
      "metadata": {
        "id": "OcjLHsb--D4K"
      },
      "execution_count": null,
      "outputs": []
    },
    {
      "cell_type": "code",
      "source": [
        "# ex019 - Sorteando um item na lista\n",
        "import random\n",
        "n1 = input('1º aluno: ')\n",
        "n2 = input('2º aluno: ')\n",
        "n3 = input('3º aluno: ')\n",
        "n4 = input('4º aluno: ')\n",
        "lista=[n1,n2,n3,n4]\n",
        "print(f'O aluno escolhido foi {random.choice(lista)}')"
      ],
      "metadata": {
        "id": "gF2DDlvmLkDG"
      },
      "execution_count": null,
      "outputs": []
    },
    {
      "cell_type": "code",
      "source": [
        "# ex020 - Sorteando uma ordem na lista\n",
        "import random\n",
        "a1 = input('Primeiro aluno: ')\n",
        "a2 = input('Segundo aluno: ')\n",
        "a3 = input('Terceiro aluno: ')\n",
        "a4 = input('Quarto aluno: ')\n",
        "lista=[a1,a2,a3,a4]\n",
        "random.shuffle(lista)\n",
        "print(f'A ordedm de apresentação será\\n{lista}')"
      ],
      "metadata": {
        "id": "_gB3TQala19L"
      },
      "execution_count": null,
      "outputs": []
    },
    {
      "cell_type": "markdown",
      "source": [
        "# FASE 09 - Manipulando Texto\n",
        "# Para mais métodos consultar tópico 'Métodos de string', em: https://docs.python.org/pt-br/3/library/stdtypes.html#textseq\n"
      ],
      "metadata": {
        "id": "CdCDYuCKjCl5"
      }
    },
    {
      "cell_type": "code",
      "source": [
        "# ex022 - Analisador de textos\n",
        "nome = input('Digite seu nome completo:\\n').strip()\n",
        "print(f'{nome.upper()}\\n{nome.lower()}')\n",
        "print('Ao todo o nome contém:', len(nome.replace(' ', '')),'caracteres.')\n",
        "separa = nome.split()\n",
        "print('O primeiro nome contém:', len(separa[0]),'caracteres.')"
      ],
      "metadata": {
        "id": "3yZ3kgRpqcvx"
      },
      "execution_count": null,
      "outputs": []
    },
    {
      "cell_type": "code",
      "source": [
        "# ex023 - Separando dígitos de um número\n",
        "num = int(input('Informe um numero (0 a 9999): '))\n",
        "print(f'Analisando o número {num}')\n",
        "print(f'Unidade:{num // 1 % 10}')\n",
        "print(f'Dezena: {num // 10 % 10}')\n",
        "print(f'Centena: {num // 100 % 10}')\n",
        "print(f'Milhar: {num // 1000 % 10}')"
      ],
      "metadata": {
        "id": "VgDJuANP2XB0"
      },
      "execution_count": null,
      "outputs": []
    },
    {
      "cell_type": "code",
      "source": [
        "# ex024 - Verificando as primeiras letras de um texto\n",
        "texto = input('Em que cidade voce nasceu? ').strip().upper()\n",
        "print(f'Contém a palavra \"SANTO\" na sentença acima? {\"santo\".upper() in texto}')"
      ],
      "metadata": {
        "id": "ZPWWFzpUEdaL"
      },
      "execution_count": null,
      "outputs": []
    },
    {
      "cell_type": "code",
      "source": [
        "# ex025 - Procurando uma string dentro da outra\n",
        "nome = input('Digite seu nome completo: ').strip().upper()\n",
        "print(f'Seu nome tem \"Silva\"? {\"silva\".upper() in nome}')"
      ],
      "metadata": {
        "id": "aTqBtTJa-oBj"
      },
      "execution_count": null,
      "outputs": []
    },
    {
      "cell_type": "code",
      "source": [
        "# ex026 - Primeira e última ocorrência de uma string\n",
        "frase = input('Digite uma frase: ').strip().lower()\n",
        "print(f'A letra \"A\" aparece {frase.count(\"a\")} vezes na frase.')\n",
        "print(f'A primeira letra \"A\" apareceu na posição {frase.find(\"a\")+1}.')\n",
        "print(f\"A última letra 'A' apareceu na posição {frase.rfind('a')+1}.\")"
      ],
      "metadata": {
        "id": "PRqSgxSdCApa"
      },
      "execution_count": null,
      "outputs": []
    },
    {
      "cell_type": "code",
      "source": [
        "# ex027 - Nome e último nome\n",
        "nome = input('Digite seu nome completo: ').strip().title()\n",
        "dividir = nome.split()\n",
        "print(f'Muito prazer em te conhecer {nome}!')\n",
        "print(f\"Seu primeiro nome é {dividir[0]}\")\n",
        "print(f\"Seu último nome é {dividir[-1]}\")"
      ],
      "metadata": {
        "id": "aoWMfU0Nq6N2"
      },
      "execution_count": null,
      "outputs": []
    },
    {
      "cell_type": "markdown",
      "source": [
        "# Fibonacci para descontrair"
      ],
      "metadata": {
        "id": "iaNWvt0VaSJF"
      }
    },
    {
      "cell_type": "code",
      "source": [
        "def fib(n):\n",
        "  a, b = 0, 1 # valores de a e b, respectivamente\n",
        "  while a < n:\n",
        "    print(a, end=' ')\n",
        "    a, b = b, a+b # enquanto a variavel a for menor que n (definida no final), será impresso o valor original de a;\n",
        "                  # após isso, o valor de a será trocado pelo valor de b (que vale 1) e, se ainda for menor que n, a var b receberá a soma de a (que vale 1) + b (que também vale 1)\n",
        "n = int(input('Digite a sequencia: '))\n",
        "fib(n)"
      ],
      "metadata": {
        "id": "kthZG91EXJm4",
        "colab": {
          "base_uri": "https://localhost:8080/"
        },
        "outputId": "475bb377-b383-45c2-ec39-c40b8ae169a8"
      },
      "execution_count": null,
      "outputs": [
        {
          "output_type": "stream",
          "name": "stdout",
          "text": [
            "Digite a sequencia: 3\n",
            "0 1 1 2 "
          ]
        }
      ]
    },
    {
      "cell_type": "markdown",
      "source": [
        "# FASE 10 - Condições (Parte 1)"
      ],
      "metadata": {
        "id": "eTuvxn_GaZcr"
      }
    },
    {
      "cell_type": "code",
      "source": [
        "# ex028 - jogo da adivinhação v.1.0\n",
        "from random import randint\n",
        "from time import sleep\n",
        "# jogador (eu); pc (computador)\n",
        "pc = randint(1, 5)\n",
        "jogador = int(input('Tente adivinhar em que número estou pensando.\\nEscolha um valor entre 0 e 5: '))\n",
        "print('PROCESSANDO...')\n",
        "sleep(1.5)\n",
        "print(f'Parabéns! Eu pensei no número {pc}.' if jogador == pc else f'Errou! Eu pensei no número {pc}.')\n"
      ],
      "metadata": {
        "id": "HqMYozBtbBHX"
      },
      "execution_count": null,
      "outputs": []
    },
    {
      "cell_type": "code",
      "source": [
        "# ex29 - Radar eletrônico\n",
        "vel = float(input('informe a velocidade do carro: '))\n",
        "multa = (vel - 80) * 7\n",
        "if vel > 80:\n",
        "  print(f'''Você ultrapassou o limite permitido de 80Km/h.\n",
        "Portanto, você será multado em R${multa:.2f}''')\n",
        "else:\n",
        "  print('''Você está dentro da velocidade permitada.\n",
        "Boa viagem e dirija com segurança!''')"
      ],
      "metadata": {
        "id": "svvmZZLXBFVv"
      },
      "execution_count": null,
      "outputs": []
    },
    {
      "cell_type": "code",
      "source": [
        "# ex30 - Par ou Ímpar\n",
        "num = int(input('Digite um valor: '))\n",
        "if num % 2 == 0:\n",
        "  print('Par')\n",
        "else:\n",
        "  print('Ímpar')"
      ],
      "metadata": {
        "id": "B3D17P1wDma0"
      },
      "execution_count": null,
      "outputs": []
    },
    {
      "cell_type": "code",
      "source": [
        "# ex031 - Custo da Viagem\n",
        "dist = float(input('Infome, em Km, a distância da viagem: '))\n",
        "if dist <= 200:\n",
        "  total = dist * 0.50\n",
        "else:\n",
        "  total = dist * 0.45\n",
        "print(f'Para uma viagem de {dist}Km, você pagará R${total:.2f}.')"
      ],
      "metadata": {
        "id": "r1rtAt_SNTV2"
      },
      "execution_count": null,
      "outputs": []
    },
    {
      "cell_type": "code",
      "source": [
        "# ex032 - Ano bissexto\n",
        "from datetime import date\n",
        "ano_atual = date.today().year\n",
        "ano = int(input('Que ano quer analisar? Coloque 0 para analisar o ano atual: '))\n",
        "if ano == 0:\n",
        "  ano = ano_atual\n",
        "if ano % 4 == 0 and ano % 100 != 0 or ano % 400 == 0:\n",
        "  print(f'O ano de {ano} é bissexto')\n",
        "else:\n",
        "  print(f'O ano de {ano} não é bissexto')"
      ],
      "metadata": {
        "id": "flcY35wrPA9A"
      },
      "execution_count": null,
      "outputs": []
    },
    {
      "cell_type": "code",
      "source": [
        "# ex033 - Maior e Menor valores\n",
        "v1 = int(input('Primeiro valor: '))\n",
        "v2 = int(input('Segundo valor: '))\n",
        "v3 = int(input('Terceiro valor: '))\n",
        "lista=[v1, v2, v3]\n",
        "print(f'O menor valor digitado foi {min(lista)}')\n",
        "print(f'O maior valor digitado foi {max(lista)}')"
      ],
      "metadata": {
        "id": "-gn_zJsWULDf"
      },
      "execution_count": null,
      "outputs": []
    },
    {
      "cell_type": "code",
      "source": [
        "# 034 - Aumentos múltiplos\n",
        "salario = float(input('Qual o seu salário atual? R$'))\n",
        "if salario > 1250:\n",
        "  aumento = (salario * 0.1) + salario\n",
        "else:\n",
        "  aumento = (salario * 0.15) + salario\n",
        "print(f'Quem ganha R${salario:.2f}, agora, passa a ganhar R${aumento:.2f}.')"
      ],
      "metadata": {
        "id": "Jth3aFHNaQM4"
      },
      "execution_count": null,
      "outputs": []
    },
    {
      "cell_type": "code",
      "source": [
        "# 035 - Analisador de Triângulo v1.0\n",
        "a = float(input('Primeiro seguimento: '))\n",
        "b = float(input('Segundo seguimento: '))\n",
        "c = float(input('terceiro seguimento: '))\n",
        "\n",
        "if b+c > a and a+b > c and a+c > b:\n",
        "  print('Os segmentos podem formar um triângulo')\n",
        "else:\n",
        "  print('Os segmentos não podem formar um triângulo')"
      ],
      "metadata": {
        "id": "jJsw7bE_gsCI"
      },
      "execution_count": null,
      "outputs": []
    }
  ]
}